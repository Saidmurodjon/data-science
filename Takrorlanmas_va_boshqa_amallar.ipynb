{
  "nbformat": 4,
  "nbformat_minor": 0,
  "metadata": {
    "colab": {
      "provenance": [],
      "authorship_tag": "ABX9TyPZoj6jQwX5PjODI/dSsbiC",
      "include_colab_link": true
    },
    "kernelspec": {
      "name": "python3",
      "display_name": "Python 3"
    },
    "language_info": {
      "name": "python"
    }
  },
  "cells": [
    {
      "cell_type": "markdown",
      "metadata": {
        "id": "view-in-github",
        "colab_type": "text"
      },
      "source": [
        "<a href=\"https://colab.research.google.com/github/Saidmurodjon/data-science/blob/main/Takrorlanmas_va_boshqa_amallar.ipynb\" target=\"_parent\"><img src=\"https://colab.research.google.com/assets/colab-badge.svg\" alt=\"Open In Colab\"/></a>"
      ]
    },
    {
      "cell_type": "code",
      "execution_count": 1,
      "metadata": {
        "id": "L7QLZo0iUcMp"
      },
      "outputs": [],
      "source": [
        "import numpy as np"
      ]
    },
    {
      "cell_type": "code",
      "source": [
        "#data\n",
        "names = np.array(['Sarvar', 'Abdurahmon', 'Hasan', 'Temur', 'Sarvar', 'Temur', 'Sarvar'])\n",
        "ints = np.array([3,3,3,2,2,1,1,4,4])"
      ],
      "metadata": {
        "id": "u0egSmCNUloE"
      },
      "execution_count": 6,
      "outputs": []
    },
    {
      "cell_type": "code",
      "source": [
        "#unique\n",
        "np.unique(names) #names dagi takrorlanmas elementlarni qaytaradi ( takrorlansa ham faqat bittasini qabul qiladi)"
      ],
      "metadata": {
        "colab": {
          "base_uri": "https://localhost:8080/"
        },
        "id": "gmNtFmu0UnJi",
        "outputId": "e4ceefcb-0670-4be0-c16a-48134ab65ec0"
      },
      "execution_count": 8,
      "outputs": [
        {
          "output_type": "execute_result",
          "data": {
            "text/plain": [
              "array(['Abdurahmon', 'Hasan', 'Sarvar', 'Temur'], dtype='<U10')"
            ]
          },
          "metadata": {},
          "execution_count": 8
        }
      ]
    },
    {
      "cell_type": "code",
      "source": [
        "#set\n",
        "set(names) #names dagi unique (takrorlanmas) elementlarni qaytaradi"
      ],
      "metadata": {
        "colab": {
          "base_uri": "https://localhost:8080/"
        },
        "id": "zBdSdM6kV2TS",
        "outputId": "85e4a449-2db2-48e7-a8bd-b0a2ce330aa3"
      },
      "execution_count": 10,
      "outputs": [
        {
          "output_type": "execute_result",
          "data": {
            "text/plain": [
              "{np.str_('Abdurahmon'), np.str_('Hasan'), np.str_('Sarvar'), np.str_('Temur')}"
            ]
          },
          "metadata": {},
          "execution_count": 10
        }
      ]
    },
    {
      "cell_type": "code",
      "source": [
        "arr1=np.array([6,0,0,3,2,5,6])\n",
        "arr2 = np.array([0,2,3])\n",
        "np.in1d(arr1,arr2)"
      ],
      "metadata": {
        "colab": {
          "base_uri": "https://localhost:8080/"
        },
        "id": "bSSrtcYaWNco",
        "outputId": "d2e7b2d2-9f16-428f-d212-a162e90e9089"
      },
      "execution_count": 12,
      "outputs": [
        {
          "output_type": "stream",
          "name": "stderr",
          "text": [
            "/tmp/ipython-input-1615547766.py:3: DeprecationWarning: `in1d` is deprecated. Use `np.isin` instead.\n",
            "  np.in1d(arr1,arr2)\n"
          ]
        },
        {
          "output_type": "execute_result",
          "data": {
            "text/plain": [
              "array([False,  True,  True,  True,  True, False, False])"
            ]
          },
          "metadata": {},
          "execution_count": 12
        }
      ]
    },
    {
      "cell_type": "code",
      "source": [
        "#data\n",
        "names1 = np.array(['Jasur','Abdurahmon', 'Hasan', \"Dior\",\"Sarvar\",\"Temur\",'Jamol'])\n",
        "names2 = np.array(['Sarvar','Abdurahmon', 'Hasan', \"Temur\",\"Sarvar\",\"Ali\"])\n"
      ],
      "metadata": {
        "id": "Uf2eK6g3WLG4"
      },
      "execution_count": 27,
      "outputs": []
    },
    {
      "cell_type": "code",
      "source": [
        "np.setdiff1d(names1,names2) # names1 massivining names2 massividagi takrorlanmas qismini qaytaradi"
      ],
      "metadata": {
        "colab": {
          "base_uri": "https://localhost:8080/"
        },
        "id": "ywYQBTKuYBDo",
        "outputId": "b4cee0df-0908-4a38-aa58-177a2be08587"
      },
      "execution_count": 28,
      "outputs": [
        {
          "output_type": "execute_result",
          "data": {
            "text/plain": [
              "array(['Dior', 'Jamol', 'Jasur'], dtype='<U10')"
            ]
          },
          "metadata": {},
          "execution_count": 28
        }
      ]
    }
  ]
}