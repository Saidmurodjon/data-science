{
  "nbformat": 4,
  "nbformat_minor": 0,
  "metadata": {
    "colab": {
      "provenance": [],
      "authorship_tag": "ABX9TyOPWIVzFtsIpbE4+teEZaVz",
      "include_colab_link": true
    },
    "kernelspec": {
      "name": "python3",
      "display_name": "Python 3"
    },
    "language_info": {
      "name": "python"
    }
  },
  "cells": [
    {
      "cell_type": "markdown",
      "metadata": {
        "id": "view-in-github",
        "colab_type": "text"
      },
      "source": [
        "<a href=\"https://colab.research.google.com/github/Saidmurodjon/data-science/blob/main/Sorting_tartiblash.ipynb\" target=\"_parent\"><img src=\"https://colab.research.google.com/assets/colab-badge.svg\" alt=\"Open In Colab\"/></a>"
      ]
    },
    {
      "cell_type": "code",
      "execution_count": 1,
      "metadata": {
        "id": "_IljRDNGHJxV"
      },
      "outputs": [],
      "source": [
        "import numpy as np"
      ]
    },
    {
      "cell_type": "code",
      "source": [
        "#data\n",
        "arr =np.random.rand(4) # 4 ta taxminiy elementlardan tashkil topgan massiv\n",
        "arr"
      ],
      "metadata": {
        "colab": {
          "base_uri": "https://localhost:8080/"
        },
        "id": "QCE_kFe0HSpW",
        "outputId": "d7030933-bcf1-4648-a17b-ca58c7c107e9"
      },
      "execution_count": 7,
      "outputs": [
        {
          "output_type": "execute_result",
          "data": {
            "text/plain": [
              "array([0.15750018, 0.82052352, 0.20861399, 0.26757185])"
            ]
          },
          "metadata": {},
          "execution_count": 7
        }
      ]
    },
    {
      "cell_type": "code",
      "source": [
        "  sorted_arr=np.sort(arr) # arr massivning tartiblangan ko'rinishini sorted_arr joylaydi\n",
        "  sorted_arr"
      ],
      "metadata": {
        "colab": {
          "base_uri": "https://localhost:8080/"
        },
        "id": "qaLfEOYBHbSg",
        "outputId": "3eb0552d-1259-4041-a4c0-8ad95b57e3eb"
      },
      "execution_count": 11,
      "outputs": [
        {
          "output_type": "execute_result",
          "data": {
            "text/plain": [
              "array([0.15750018, 0.20861399, 0.26757185, 0.82052352])"
            ]
          },
          "metadata": {},
          "execution_count": 11
        }
      ]
    },
    {
      "cell_type": "code",
      "source": [
        "# 2-usul\n",
        "arr.sort() #arr ning tartiblangan ko'rinishi\n",
        "arr"
      ],
      "metadata": {
        "colab": {
          "base_uri": "https://localhost:8080/"
        },
        "id": "o_D1iz1xIDqX",
        "outputId": "1fe6d7f5-1d9f-49fd-c26a-0d6e9caf6169"
      },
      "execution_count": 14,
      "outputs": [
        {
          "output_type": "execute_result",
          "data": {
            "text/plain": [
              "array([0.15750018, 0.20861399, 0.26757185, 0.82052352])"
            ]
          },
          "metadata": {},
          "execution_count": 14
        }
      ]
    },
    {
      "cell_type": "code",
      "source": [
        "# teskasi tartiblash\n",
        "rev_arr = -np.sort(-arr) # teskari tartibdagi arr\n",
        "rev_arr"
      ],
      "metadata": {
        "colab": {
          "base_uri": "https://localhost:8080/"
        },
        "id": "xViQmfLgIYXd",
        "outputId": "d6626e71-ce50-4772-c3ec-23986e3f9bb4"
      },
      "execution_count": 17,
      "outputs": [
        {
          "output_type": "execute_result",
          "data": {
            "text/plain": [
              "array([0.82052352, 0.26757185, 0.20861399, 0.15750018])"
            ]
          },
          "metadata": {},
          "execution_count": 17
        }
      ]
    },
    {
      "cell_type": "code",
      "source": [
        "# 2 D array (massiv)\n",
        "arr2d=np.random.rand(2,4)\n",
        "arr2d"
      ],
      "metadata": {
        "colab": {
          "base_uri": "https://localhost:8080/"
        },
        "id": "1It65CrUIlHw",
        "outputId": "32c612a0-9403-4d6b-cb2c-5fa499a829ff"
      },
      "execution_count": 20,
      "outputs": [
        {
          "output_type": "execute_result",
          "data": {
            "text/plain": [
              "array([[0.43319595, 0.14465261, 0.71005999, 0.48895492],\n",
              "       [0.41524447, 0.67307449, 0.77417269, 0.01810886]])"
            ]
          },
          "metadata": {},
          "execution_count": 20
        }
      ]
    },
    {
      "cell_type": "code",
      "source": [
        "\n",
        "# axis=0 --> qator\n",
        "row_srt=np.sort(arr2d,axis=0) # arr2d ning har bir qator bo'yicha tartiblangan ko'rinishi\n",
        "row_srt"
      ],
      "metadata": {
        "colab": {
          "base_uri": "https://localhost:8080/"
        },
        "id": "vmcJ2NTfJSfg",
        "outputId": "0649b7e7-e9e7-4d1e-b8c2-5c20376af993"
      },
      "execution_count": 24,
      "outputs": [
        {
          "output_type": "execute_result",
          "data": {
            "text/plain": [
              "array([[0.41524447, 0.14465261, 0.71005999, 0.01810886],\n",
              "       [0.43319595, 0.67307449, 0.77417269, 0.48895492]])"
            ]
          },
          "metadata": {},
          "execution_count": 24
        }
      ]
    },
    {
      "cell_type": "code",
      "source": [
        "# axis=1 --> Ustun\n",
        "col_srt=np.sort(arr2d,axis=1) # arr2d ning har bir ustun bo'yicha tartiblangan ko'rinishi\n",
        "col_srt"
      ],
      "metadata": {
        "colab": {
          "base_uri": "https://localhost:8080/"
        },
        "id": "zMRTb7yeJtfa",
        "outputId": "2cf35d52-df2d-464c-ee89-5c66a0a0abd6"
      },
      "execution_count": 26,
      "outputs": [
        {
          "output_type": "execute_result",
          "data": {
            "text/plain": [
              "array([[0.14465261, 0.43319595, 0.48895492, 0.71005999],\n",
              "       [0.01810886, 0.41524447, 0.67307449, 0.77417269]])"
            ]
          },
          "metadata": {},
          "execution_count": 26
        }
      ]
    }
  ]
}