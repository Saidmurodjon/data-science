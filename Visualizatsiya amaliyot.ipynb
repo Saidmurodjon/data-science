{
  "cells": [
    {
      "cell_type": "markdown",
      "metadata": {
        "id": "view-in-github",
        "colab_type": "text"
      },
      "source": [
        "<a href=\"https://colab.research.google.com/github/Saidmurodjon/data-science/blob/main/Visualizatsiya%20amaliyot.ipynb\" target=\"_parent\"><img src=\"https://colab.research.google.com/assets/colab-badge.svg\" alt=\"Open In Colab\"/></a>"
      ]
    },
    {
      "cell_type": "markdown",
      "id": "bf79c78b",
      "metadata": {
        "id": "bf79c78b"
      },
      "source": [
        "![Imgur](https://i.imgur.com/h4PPC71.png)\n",
        "#Data Sayns va Sunʼiy Intellekt Praktikum\n",
        "\n",
        "#8.26. NumPy kutubxonasi boʻyicha amaliy vazifa\n",
        "\n",
        "Topshiriqni aynan qanday funksiyalar yordamida bajarish mumkinligi `💡Ishora` koʻrinishida berilgan."
      ]
    },
    {
      "cell_type": "markdown",
      "id": "017db353",
      "metadata": {
        "id": "017db353"
      },
      "source": [
        "#### 1. NumPy kutubxonasini `np` nomi ostida yuklang va uni chop eting.\n",
        "\n",
        "Versiya va konfiguratsiyani tekshiring.\n"
      ]
    },
    {
      "cell_type": "markdown",
      "source": [
        "`💡Ishora` import … as` and `np.__version__, np.show_config"
      ],
      "metadata": {
        "id": "e28779fe"
      },
      "id": "e28779fe"
    },
    {
      "cell_type": "code",
      "source": [
        "import numpy as np\n",
        "np.version"
      ],
      "metadata": {
        "id": "_pCbn1ieI3u9",
        "colab": {
          "base_uri": "https://localhost:8080/"
        },
        "outputId": "befd7b8f-5bfb-4552-9df7-a3ccd56bf2ec"
      },
      "id": "_pCbn1ieI3u9",
      "execution_count": 56,
      "outputs": [
        {
          "output_type": "execute_result",
          "data": {
            "text/plain": [
              "<module 'numpy.version' from '/usr/local/lib/python3.12/dist-packages/numpy/version.py'>"
            ]
          },
          "metadata": {},
          "execution_count": 56
        }
      ]
    },
    {
      "cell_type": "markdown",
      "id": "46950f4f",
      "metadata": {
        "id": "46950f4f"
      },
      "source": [
        "#### 2. Raqamli qiymatlar roʻyxatini bir oʻlchovli NumPy massiviga aylantiring."
      ]
    },
    {
      "cell_type": "markdown",
      "source": [
        "`💡Ishora` numpy.array"
      ],
      "metadata": {
        "id": "9b0e875f"
      },
      "id": "9b0e875f"
    },
    {
      "cell_type": "code",
      "source": [
        "massiv = np.array([1, 2, 3, 4, 5])\n",
        "massiv"
      ],
      "metadata": {
        "id": "dgnzjeT3JCi4",
        "colab": {
          "base_uri": "https://localhost:8080/"
        },
        "outputId": "8149ab3f-53e0-4289-ff66-107cea36aef1"
      },
      "id": "dgnzjeT3JCi4",
      "execution_count": 57,
      "outputs": [
        {
          "output_type": "execute_result",
          "data": {
            "text/plain": [
              "array([1, 2, 3, 4, 5])"
            ]
          },
          "metadata": {},
          "execution_count": 57
        }
      ]
    },
    {
      "cell_type": "markdown",
      "id": "e3c20b3d",
      "metadata": {
        "id": "e3c20b3d"
      },
      "source": [
        "#### 3. Qiymatlari noldan iborat boʻlgan toʻqqiz elementdan iborat massiv yarating.\n",
        "\n",
        "\n",
        "---\n",
        "\n",
        "\n"
      ]
    },
    {
      "cell_type": "markdown",
      "source": [
        "`💡Ishora` np.zeros"
      ],
      "metadata": {
        "id": "96d0b63e"
      },
      "id": "96d0b63e"
    },
    {
      "cell_type": "markdown",
      "id": "b15a879f",
      "metadata": {
        "id": "b15a879f"
      },
      "source": [
        "#### 4. Massiv yarating va uning xotira hajmini toping.\n",
        "\n"
      ]
    },
    {
      "cell_type": "markdown",
      "source": [
        "`💡Ishora` size, itemsize"
      ],
      "metadata": {
        "id": "32f9025c"
      },
      "id": "32f9025c"
    },
    {
      "cell_type": "code",
      "source": [
        "v=massiv.size*massiv.itemsize\n",
        "v"
      ],
      "metadata": {
        "id": "MZxcJM_oJOTs",
        "colab": {
          "base_uri": "https://localhost:8080/"
        },
        "outputId": "845e991d-2101-4907-ad8b-93a9fb18c2b4"
      },
      "id": "MZxcJM_oJOTs",
      "execution_count": 58,
      "outputs": [
        {
          "output_type": "execute_result",
          "data": {
            "text/plain": [
              "40"
            ]
          },
          "metadata": {},
          "execution_count": 58
        }
      ]
    },
    {
      "cell_type": "markdown",
      "id": "0a708990",
      "metadata": {
        "id": "0a708990"
      },
      "source": [
        "#### 5. NumPy kutubxonasidagi `add` funksiyasi hujjatlarini buyruq satridan qanday olishi mumkin?\n"
      ]
    },
    {
      "cell_type": "markdown",
      "source": [
        "`💡Ishora` np.info"
      ],
      "metadata": {
        "id": "d254eea5"
      },
      "id": "d254eea5"
    },
    {
      "cell_type": "code",
      "source": [
        "np.info(np.add)"
      ],
      "metadata": {
        "id": "m7nA_vYsJVUi",
        "colab": {
          "base_uri": "https://localhost:8080/"
        },
        "outputId": "dd4a3326-f00c-455b-81e6-a38947a5bde3"
      },
      "id": "m7nA_vYsJVUi",
      "execution_count": 59,
      "outputs": [
        {
          "output_type": "stream",
          "name": "stdout",
          "text": [
            "add(x1, x2, /, out=None, *, where=True, casting='same_kind', order='K', dtype=None, subok=True[, signature])\n",
            "\n",
            "Add arguments element-wise.\n",
            "\n",
            "Parameters\n",
            "----------\n",
            "x1, x2 : array_like\n",
            "    The arrays to be added.\n",
            "    If ``x1.shape != x2.shape``, they must be broadcastable to a common\n",
            "    shape (which becomes the shape of the output).\n",
            "out : ndarray, None, or tuple of ndarray and None, optional\n",
            "    A location into which the result is stored. If provided, it must have\n",
            "    a shape that the inputs broadcast to. If not provided or None,\n",
            "    a freshly-allocated array is returned. A tuple (possible only as a\n",
            "    keyword argument) must have length equal to the number of outputs.\n",
            "where : array_like, optional\n",
            "    This condition is broadcast over the input. At locations where the\n",
            "    condition is True, the `out` array will be set to the ufunc result.\n",
            "    Elsewhere, the `out` array will retain its original value.\n",
            "    Note that if an uninitialized `out` array is created via the default\n",
            "    ``out=None``, locations within it where the condition is False will\n",
            "    remain uninitialized.\n",
            "**kwargs\n",
            "    For other keyword-only arguments, see the\n",
            "    :ref:`ufunc docs <ufuncs.kwargs>`.\n",
            "\n",
            "Returns\n",
            "-------\n",
            "add : ndarray or scalar\n",
            "    The sum of `x1` and `x2`, element-wise.\n",
            "    This is a scalar if both `x1` and `x2` are scalars.\n",
            "\n",
            "Notes\n",
            "-----\n",
            "Equivalent to `x1` + `x2` in terms of array broadcasting.\n",
            "\n",
            "Examples\n",
            "--------\n",
            ">>> np.add(1.0, 4.0)\n",
            "5.0\n",
            ">>> x1 = np.arange(9.0).reshape((3, 3))\n",
            ">>> x2 = np.arange(3.0)\n",
            ">>> np.add(x1, x2)\n",
            "array([[  0.,   2.,   4.],\n",
            "       [  3.,   5.,   7.],\n",
            "       [  6.,   8.,  10.]])\n",
            "\n",
            "The ``+`` operator can be used as a shorthand for ``np.add`` on ndarrays.\n",
            "\n",
            ">>> x1 = np.arange(9.0).reshape((3, 3))\n",
            ">>> x2 = np.arange(3.0)\n",
            ">>> x1 + x2\n",
            "array([[ 0.,  2.,  4.],\n",
            "       [ 3.,  5.,  7.],\n",
            "       [ 6.,  8., 10.]])\n"
          ]
        }
      ]
    },
    {
      "cell_type": "markdown",
      "id": "0b16cd77",
      "metadata": {
        "id": "0b16cd77"
      },
      "source": [
        "#### 6. Shunday vekor yaratingki u oʻn ikki oʻlchamda va qiymatlari noldan iborat boʻlsin, lekin vektorning oltinchi qiymati 1 ga teng boʻlsin.\n",
        "\n"
      ]
    },
    {
      "cell_type": "markdown",
      "source": [
        "`💡Ishora` array[12]"
      ],
      "metadata": {
        "id": "05223560"
      },
      "id": "05223560"
    },
    {
      "cell_type": "code",
      "source": [
        "v = np.zeros(12, dtype=int)  # 12 ta nol\n",
        "v[5] = 1                     # oltinchi elementni 1 qilish\n",
        "v"
      ],
      "metadata": {
        "id": "UJfYDNQoJc7M",
        "colab": {
          "base_uri": "https://localhost:8080/"
        },
        "outputId": "76522ba0-743d-40d8-a056-0ba73d13d395"
      },
      "id": "UJfYDNQoJc7M",
      "execution_count": 60,
      "outputs": [
        {
          "output_type": "execute_result",
          "data": {
            "text/plain": [
              "array([0, 0, 0, 0, 0, 1, 0, 0, 0, 0, 0, 0])"
            ]
          },
          "metadata": {},
          "execution_count": 60
        }
      ]
    },
    {
      "cell_type": "markdown",
      "id": "782d4c77",
      "metadata": {
        "id": "782d4c77"
      },
      "source": [
        "#### 7. Qiymatlari 20 dan 59 gacha boʻlgan vektor yarating.\n",
        "\n"
      ]
    },
    {
      "cell_type": "markdown",
      "source": [
        "`💡Ishora` arange"
      ],
      "metadata": {
        "id": "7250d114"
      },
      "id": "7250d114"
    },
    {
      "cell_type": "code",
      "source": [
        "v = np.arange(20, 60)   # 20 dan 59 gacha\n",
        "v"
      ],
      "metadata": {
        "id": "fSaWkGakJhwz",
        "colab": {
          "base_uri": "https://localhost:8080/"
        },
        "outputId": "39a28611-5369-43f6-994a-898c66770ad7"
      },
      "id": "fSaWkGakJhwz",
      "execution_count": 61,
      "outputs": [
        {
          "output_type": "execute_result",
          "data": {
            "text/plain": [
              "array([20, 21, 22, 23, 24, 25, 26, 27, 28, 29, 30, 31, 32, 33, 34, 35, 36,\n",
              "       37, 38, 39, 40, 41, 42, 43, 44, 45, 46, 47, 48, 49, 50, 51, 52, 53,\n",
              "       54, 55, 56, 57, 58, 59])"
            ]
          },
          "metadata": {},
          "execution_count": 61
        }
      ]
    },
    {
      "cell_type": "markdown",
      "id": "48d48f01",
      "metadata": {
        "id": "48d48f01"
      },
      "source": [
        "#### 8. Vektor yarating va uni teskari oʻzgartiring, (birinchi element oxirgisi boʻlsin)\n",
        "\n"
      ]
    },
    {
      "cell_type": "markdown",
      "source": [
        "`💡Ishora` array[::-1]"
      ],
      "metadata": {
        "id": "fb702ae0"
      },
      "id": "fb702ae0"
    },
    {
      "cell_type": "code",
      "source": [
        "v = np.array([1, 2, 3, 4, 5])\n",
        "teskari = v[::-1]\n",
        "teskari"
      ],
      "metadata": {
        "id": "GCP6vp_WJrON",
        "colab": {
          "base_uri": "https://localhost:8080/"
        },
        "outputId": "7967801f-e272-4505-fc74-6fc0aaf4d2b7"
      },
      "id": "GCP6vp_WJrON",
      "execution_count": 62,
      "outputs": [
        {
          "output_type": "execute_result",
          "data": {
            "text/plain": [
              "array([5, 4, 3, 2, 1])"
            ]
          },
          "metadata": {},
          "execution_count": 62
        }
      ]
    },
    {
      "cell_type": "markdown",
      "id": "4fa39382",
      "metadata": {
        "id": "4fa39382"
      },
      "source": [
        "#### 9. 12 dan 20 gacha boʻlgan qiymatlarga ega 3x3 matritsa yarating.\n"
      ]
    },
    {
      "cell_type": "markdown",
      "source": [
        "`💡Ishora` reshape"
      ],
      "metadata": {
        "id": "97e6be92"
      },
      "id": "97e6be92"
    },
    {
      "cell_type": "code",
      "source": [
        "m = np.arange(12, 21).reshape(3, 3)\n",
        "m"
      ],
      "metadata": {
        "id": "Ve7gEGjuJxxw",
        "colab": {
          "base_uri": "https://localhost:8080/"
        },
        "outputId": "37ea5551-df08-455a-b890-8d77886a2ede"
      },
      "id": "Ve7gEGjuJxxw",
      "execution_count": 63,
      "outputs": [
        {
          "output_type": "execute_result",
          "data": {
            "text/plain": [
              "array([[12, 13, 14],\n",
              "       [15, 16, 17],\n",
              "       [18, 19, 20]])"
            ]
          },
          "metadata": {},
          "execution_count": 63
        }
      ]
    },
    {
      "cell_type": "markdown",
      "id": "da64551a",
      "metadata": {
        "id": "da64551a"
      },
      "source": [
        "#### 10. Quyidagi matritsadan foydalanib nolga teng boʻlmagan elementlarning indekslarini toping.\n",
        "[3, 7, 0, 0, 9, 0]\n",
        "\n",
        "\n",
        "\n"
      ]
    },
    {
      "cell_type": "markdown",
      "source": [
        "`💡Ishora` np.nonzero"
      ],
      "metadata": {
        "id": "322b2b68"
      },
      "id": "322b2b68"
    },
    {
      "cell_type": "code",
      "source": [
        "a = np.array([3, 7, 0, 0, 9, 0])\n",
        "indekslar = np.nonzero(a)\n",
        "indekslar"
      ],
      "metadata": {
        "id": "fNIuSyBaJ4OP",
        "colab": {
          "base_uri": "https://localhost:8080/"
        },
        "outputId": "b45f1b15-68aa-4679-f31d-e329b568f3a6"
      },
      "id": "fNIuSyBaJ4OP",
      "execution_count": 64,
      "outputs": [
        {
          "output_type": "execute_result",
          "data": {
            "text/plain": [
              "(array([0, 1, 4]),)"
            ]
          },
          "metadata": {},
          "execution_count": 64
        }
      ]
    },
    {
      "cell_type": "markdown",
      "id": "f89d9c9e",
      "metadata": {
        "id": "f89d9c9e"
      },
      "source": [
        "#### 11. Tasodifiy qiymatlar bilan 2x2x2 oʻlchovidagi massiv yarating.\n"
      ]
    },
    {
      "cell_type": "markdown",
      "source": [
        "`💡Ishora` np.random.random"
      ],
      "metadata": {
        "id": "5717e1c1"
      },
      "id": "5717e1c1"
    },
    {
      "cell_type": "code",
      "source": [
        "arr = np.random.random((2,2,2))\n",
        "arr"
      ],
      "metadata": {
        "id": "bHloeqHOKuiX",
        "colab": {
          "base_uri": "https://localhost:8080/"
        },
        "outputId": "35607660-797c-4936-c78b-a19e0949be1a"
      },
      "id": "bHloeqHOKuiX",
      "execution_count": 65,
      "outputs": [
        {
          "output_type": "execute_result",
          "data": {
            "text/plain": [
              "array([[[0.21570085, 0.45583624],\n",
              "        [0.4495821 , 0.91314893]],\n",
              "\n",
              "       [[0.01876082, 0.62283032],\n",
              "        [0.10590594, 0.57265861]]])"
            ]
          },
          "metadata": {},
          "execution_count": 65
        }
      ]
    },
    {
      "cell_type": "markdown",
      "id": "13c5928c",
      "metadata": {
        "id": "13c5928c"
      },
      "source": [
        "#### 12. Tasodifiy sonlardan tashkil topgan 9X9 oʻlchamidagi massiv yarating. Soʻng uning eng katta va eng kichik qiymatlarini toping.\n"
      ]
    },
    {
      "cell_type": "markdown",
      "source": [
        "`💡Ishora` min, max"
      ],
      "metadata": {
        "id": "0ede4d26"
      },
      "id": "0ede4d26"
    },
    {
      "cell_type": "code",
      "source": [
        "m = np.random.random((9, 9))\n",
        "\n",
        "# Eng kichik va eng katta qiymatlar\n",
        "print(\"Massiv:\\n\", m)\n",
        "print(\"Eng kichik qiymat:\", m.min())\n",
        "print(\"Eng katta qiymat:\", m.max())"
      ],
      "metadata": {
        "id": "OJiVa5K9LJyb",
        "colab": {
          "base_uri": "https://localhost:8080/"
        },
        "outputId": "1ee87bd2-7d07-4c8e-c6d3-99e483b79f60"
      },
      "id": "OJiVa5K9LJyb",
      "execution_count": 66,
      "outputs": [
        {
          "output_type": "stream",
          "name": "stdout",
          "text": [
            "Massiv:\n",
            " [[0.65256884 0.32755861 0.04575346 0.99255823 0.44406945 0.13549227\n",
            "  0.08774703 0.07877875 0.73043633]\n",
            " [0.35854686 0.96696207 0.61138034 0.38047255 0.97625375 0.11271188\n",
            "  0.35751315 0.08848102 0.31947004]\n",
            " [0.17497022 0.38376377 0.05484548 0.51141307 0.63716645 0.64516789\n",
            "  0.24945849 0.19707325 0.07098228]\n",
            " [0.30634102 0.07919264 0.23165574 0.99214521 0.53681452 0.23318062\n",
            "  0.71296624 0.19966067 0.63633754]\n",
            " [0.35497276 0.54904266 0.54077428 0.07492767 0.39047814 0.44524467\n",
            "  0.88052129 0.78881499 0.11480776]\n",
            " [0.64687859 0.00890007 0.05198425 0.92788272 0.7783014  0.29056495\n",
            "  0.37677738 0.81318899 0.32750566]\n",
            " [0.76450923 0.31181554 0.4985423  0.70146217 0.68116725 0.18266403\n",
            "  0.95403758 0.83522732 0.16785136]\n",
            " [0.84179557 0.60707176 0.54646469 0.04310294 0.99915869 0.92020742\n",
            "  0.11140785 0.08177464 0.3550203 ]\n",
            " [0.1419776  0.12152317 0.94674183 0.01637912 0.79548015 0.04806532\n",
            "  0.45849546 0.39729447 0.9892124 ]]\n",
            "Eng kichik qiymat: 0.00890006914684327\n",
            "Eng katta qiymat: 0.9991586873872327\n"
          ]
        }
      ]
    },
    {
      "cell_type": "markdown",
      "id": "3fa2e461",
      "metadata": {
        "id": "3fa2e461"
      },
      "source": [
        "#### 13. Quyidagi misol qanday natija beradi?\n",
        "\n",
        "\n",
        "```python\n",
        "0 * np.nan\n",
        "np.nan == np.nan\n",
        "np.inf > np.nan\n",
        "np.nan - np.nan\n",
        "np.nan in set([np.nan])\n",
        "0.7 == 7 * 0.1\n",
        "```\n"
      ]
    },
    {
      "cell_type": "markdown",
      "source": [
        "`💡Ishora` NaN = not a number, inf = infinity"
      ],
      "metadata": {
        "id": "c0048e59"
      },
      "id": "c0048e59"
    },
    {
      "cell_type": "code",
      "source": [
        "0 * np.nan\n",
        "#NaN bilan amal bajarilsa, natija ham NaN bo'ladi.\n",
        "np.nan == np.nan\n",
        "#NaN hech qachon NaN ga teng emas.\n",
        "\n",
        "np.inf > np.nan\n",
        "#NaN bilan solishtirilganda natija doim False.\n",
        "\n",
        "np.nan - np.nan\n",
        "#NaN ustida amal → NaN).\n",
        "\n",
        "np.nan in set([np.nan])\n",
        "#set ichida NaN mavjud, shuning uchun True.\n",
        "\n",
        "0.7 == 7 * 0.1\n",
        "#floating-point aniqlik muammosi tufayli 0.7 ≠ 0.7000000000000001."
      ],
      "metadata": {
        "id": "Thbqd_RCLf_e",
        "colab": {
          "base_uri": "https://localhost:8080/"
        },
        "outputId": "748d534c-11a8-4c3f-8cdd-648bdf8ed26b"
      },
      "id": "Thbqd_RCLf_e",
      "execution_count": 67,
      "outputs": [
        {
          "output_type": "execute_result",
          "data": {
            "text/plain": [
              "False"
            ]
          },
          "metadata": {},
          "execution_count": 67
        }
      ]
    },
    {
      "cell_type": "markdown",
      "id": "73f7a549",
      "metadata": {
        "id": "73f7a549"
      },
      "source": [
        "#### 14. Oʻlchamlari 6x3 va 3x4 boʻlgan martitsa yarating, soʻng ularning  koʻpaytmasini hisoblang.\n",
        "\n"
      ]
    },
    {
      "cell_type": "markdown",
      "source": [
        "`💡Ishora` np.dot` or `np.ones"
      ],
      "metadata": {
        "id": "351ff928"
      },
      "id": "351ff928"
    },
    {
      "cell_type": "code",
      "source": [
        "A = np.ones((6, 3))\n",
        "B = np.ones((3, 4))\n",
        "\n",
        "C = np.dot(A, B)    # matritsalar ko'paytmasi\n",
        "C"
      ],
      "metadata": {
        "id": "e_5QUFcPLtVX",
        "colab": {
          "base_uri": "https://localhost:8080/"
        },
        "outputId": "34310cf4-c330-48e6-fa40-f4013475effe"
      },
      "id": "e_5QUFcPLtVX",
      "execution_count": 68,
      "outputs": [
        {
          "output_type": "execute_result",
          "data": {
            "text/plain": [
              "array([[3., 3., 3., 3.],\n",
              "       [3., 3., 3., 3.],\n",
              "       [3., 3., 3., 3.],\n",
              "       [3., 3., 3., 3.],\n",
              "       [3., 3., 3., 3.],\n",
              "       [3., 3., 3., 3.]])"
            ]
          },
          "metadata": {},
          "execution_count": 68
        }
      ]
    },
    {
      "cell_type": "markdown",
      "id": "6d0c506f",
      "metadata": {
        "id": "6d0c506f"
      },
      "source": [
        "#### 15. Quyidagi misol qanday natija beradi?\n",
        "\n",
        "```python\n",
        "print(sum(range(5),-1))\n",
        "from numpy import *\n",
        "print(sum(range(5),-1))\n",
        "```"
      ]
    },
    {
      "cell_type": "code",
      "execution_count": 69,
      "id": "c1cc1143",
      "metadata": {
        "id": "c1cc1143",
        "colab": {
          "base_uri": "https://localhost:8080/"
        },
        "outputId": "642963a3-25a6-47c7-9492-f045f336d7ba"
      },
      "outputs": [
        {
          "output_type": "stream",
          "name": "stdout",
          "text": [
            "10\n",
            "10\n"
          ]
        }
      ],
      "source": [
        "print(sum(range(5), -1)) #9\n",
        "\n",
        "from numpy import *\n",
        "print(sum(range(5), -1)) #10"
      ]
    },
    {
      "cell_type": "markdown",
      "id": "d6ad1a9f",
      "metadata": {
        "id": "d6ad1a9f"
      },
      "source": [
        "#### 16. NumPy kutubxonasi yordamida ikkita massivni solishtiring va ular usida quyidagi amallarni bajaring.\n",
        "\n",
        "```python\n",
        "Array a: [1 2]\n",
        "Array b: [4 5]\n",
        "a > b\n",
        "[False False]\n",
        "a >= b\n",
        "[False False]\n",
        "a < b\n",
        "[ True True]\n",
        "a <= b\n",
        "[ True True]\n",
        "```"
      ]
    },
    {
      "cell_type": "code",
      "execution_count": 70,
      "id": "7ba3c441",
      "metadata": {
        "id": "7ba3c441",
        "colab": {
          "base_uri": "https://localhost:8080/"
        },
        "outputId": "e51a3d6d-a429-4524-96e7-4adbe298270f"
      },
      "outputs": [
        {
          "output_type": "stream",
          "name": "stdout",
          "text": [
            "a > b: [False False]\n",
            "a >= b: [False False]\n",
            "a < b: [ True  True]\n",
            "a <= b: [ True  True]\n"
          ]
        }
      ],
      "source": [
        "a = np.array([1, 2])\n",
        "b = np.array([4, 5])\n",
        "\n",
        "print(\"a > b:\", a > b)\n",
        "print(\"a >= b:\", a >= b)\n",
        "print(\"a < b:\", a < b)\n",
        "print(\"a <= b:\", a <= b)"
      ]
    },
    {
      "cell_type": "markdown",
      "id": "e3a7ba7f",
      "metadata": {
        "id": "e3a7ba7f"
      },
      "source": [
        "#### 17. Quyidagi misol qanday natija beradi?\n",
        "\n",
        "```python\n",
        "np.array(0) / np.array(0)\n",
        "np.array(0) // np.array(0)\n",
        "np.array([np.nan]).astype(int).astype(float)\n",
        "```"
      ]
    },
    {
      "cell_type": "code",
      "execution_count": 71,
      "id": "b874734e",
      "metadata": {
        "id": "b874734e",
        "colab": {
          "base_uri": "https://localhost:8080/"
        },
        "outputId": "99b48419-a890-4e77-d623-f6da77ebb216"
      },
      "outputs": [
        {
          "output_type": "stream",
          "name": "stderr",
          "text": [
            "/tmp/ipython-input-1108561014.py:1: RuntimeWarning: invalid value encountered in divide\n",
            "  np.array(0) / np.array(0) #nan\n",
            "/tmp/ipython-input-1108561014.py:2: RuntimeWarning: divide by zero encountered in floor_divide\n",
            "  np.array(0) // np.array(0) #nan\n",
            "/tmp/ipython-input-1108561014.py:3: RuntimeWarning: invalid value encountered in cast\n",
            "  np.array([np.nan]).astype(int).astype(float) #-9.22337204e+18\n"
          ]
        },
        {
          "output_type": "execute_result",
          "data": {
            "text/plain": [
              "array([-9.22337204e+18])"
            ]
          },
          "metadata": {},
          "execution_count": 71
        }
      ],
      "source": [
        "np.array(0) / np.array(0) #nan\n",
        "np.array(0) // np.array(0) #nan\n",
        "np.array([np.nan]).astype(int).astype(float) #-9.22337204e+18"
      ]
    },
    {
      "cell_type": "markdown",
      "id": "6d17ab5d",
      "metadata": {
        "id": "6d17ab5d"
      },
      "source": [
        "#### 18. Ikkita massiv yarating va ular orasidagi umumiy qiymatlarni toping.\n"
      ]
    },
    {
      "cell_type": "markdown",
      "source": [],
      "metadata": {
        "id": "obItFDDTvKFI"
      },
      "id": "obItFDDTvKFI"
    },
    {
      "cell_type": "markdown",
      "source": [
        "`💡Ishora` np.intersect1d"
      ],
      "metadata": {
        "id": "4c4e2c5e"
      },
      "id": "4c4e2c5e"
    },
    {
      "cell_type": "code",
      "source": [
        "a = np.array([1, 2, 3, 4, 5])\n",
        "b = np.array([4, 5, 6, 7, 8])\n",
        "\n",
        "umumiy = np.intersect1d(a, b)\n",
        "umumiy"
      ],
      "metadata": {
        "id": "Dxz5P8WpMeAP",
        "colab": {
          "base_uri": "https://localhost:8080/"
        },
        "outputId": "a938f692-891c-402b-c23d-6a3ef4935f28"
      },
      "id": "Dxz5P8WpMeAP",
      "execution_count": 72,
      "outputs": [
        {
          "output_type": "execute_result",
          "data": {
            "text/plain": [
              "array([4, 5])"
            ]
          },
          "metadata": {},
          "execution_count": 72
        }
      ]
    },
    {
      "cell_type": "markdown",
      "id": "8837119b",
      "metadata": {
        "id": "8837119b"
      },
      "source": [
        "#### 19. Tasodifiy sonlardan iborat boʻlgan massiv yarating, soʻng ularni quyida berilgan 4 xil usul yordamida musbat sonlarning butun qismini ajratib oling."
      ]
    },
    {
      "cell_type": "markdown",
      "source": [
        "`💡Ishora` %, np.floor, astype, np.trunc"
      ],
      "metadata": {
        "id": "2b05c544"
      },
      "id": "2b05c544"
    },
    {
      "cell_type": "code",
      "source": [
        "a = np.random.uniform(0, 10, 5)\n",
        "# 1-usul: np.floor()  -> pastga qarab butun qism\n",
        "print(\"np.floor:\", np.floor(a))\n",
        "\n",
        "# 2-usul: astype(int) -> butun turga o'tkazish\n",
        "print(\"astype(int):\", a.astype(int))\n",
        "\n",
        "# 3-usul: np.trunc() -> kasr qismini kesib tashlash\n",
        "print(\"np.trunc:\", np.trunc(a))\n",
        "\n",
        "# 4-usul: % operatori bilan kasr qismini olib tashlash\n",
        "print(\"butun qism (%):\", a - (a % 1))"
      ],
      "metadata": {
        "id": "jc6wN5WWMpS3",
        "colab": {
          "base_uri": "https://localhost:8080/"
        },
        "outputId": "124e679b-bacd-4576-f96c-4a81fa9f69a7"
      },
      "id": "jc6wN5WWMpS3",
      "execution_count": 73,
      "outputs": [
        {
          "output_type": "stream",
          "name": "stdout",
          "text": [
            "np.floor: [3. 2. 9. 4. 1.]\n",
            "astype(int): [3 2 9 4 1]\n",
            "np.trunc: [3. 2. 9. 4. 1.]\n",
            "butun qism (%): [3. 2. 9. 4. 1.]\n"
          ]
        }
      ]
    },
    {
      "cell_type": "markdown",
      "id": "ec788c9f",
      "metadata": {
        "id": "ec788c9f"
      },
      "source": [
        "#### 20. Oʻlchovlari 3x3 matritsa yarating, ularning qator qiymatlari 0 dan 2 gacha boʻlsin.\n",
        "\n"
      ]
    },
    {
      "cell_type": "markdown",
      "source": [
        "`💡Ishora` np.arange"
      ],
      "metadata": {
        "id": "c3980b2c"
      },
      "id": "c3980b2c"
    },
    {
      "cell_type": "code",
      "source": [
        "matritsa = np.arange(0, 9).reshape(3, 3) % 3\n",
        "print(matritsa)"
      ],
      "metadata": {
        "id": "ycz3jw4bM0Xk",
        "colab": {
          "base_uri": "https://localhost:8080/"
        },
        "outputId": "27a59e9f-5384-4392-88a6-7209b5422aa8"
      },
      "id": "ycz3jw4bM0Xk",
      "execution_count": 74,
      "outputs": [
        {
          "output_type": "stream",
          "name": "stdout",
          "text": [
            "[[0 1 2]\n",
            " [0 1 2]\n",
            " [0 1 2]]\n"
          ]
        }
      ]
    },
    {
      "cell_type": "markdown",
      "id": "391791e0",
      "metadata": {
        "id": "391791e0"
      },
      "source": [
        "#### 21. Oʻchamlari 10 boʻlgan tasodifiy vektor yarating va uni oʻsish tartibida chiqaruvchi dastur tuzing.\n",
        "\n"
      ]
    },
    {
      "cell_type": "markdown",
      "source": [
        "`💡Ishora` sort"
      ],
      "metadata": {
        "id": "ada71c06"
      },
      "id": "ada71c06"
    },
    {
      "cell_type": "code",
      "source": [
        "# 10 ta tasodifiy sonli vektor\n",
        "v = np.random.randint(0, 100, 10)   # 0 dan 99 gacha butun sonlar\n",
        "print(\"Asl vektor:\", v)\n",
        "\n",
        "# O'sish tartibida saralash\n",
        "v_sorted = np.sort(v)\n",
        "print(\"Saralangan vektor:\", v_sorted)"
      ],
      "metadata": {
        "id": "TPMqaavROM7g",
        "colab": {
          "base_uri": "https://localhost:8080/"
        },
        "outputId": "afe5fe76-6dbb-4033-cbba-1245b4c50e09"
      },
      "id": "TPMqaavROM7g",
      "execution_count": 75,
      "outputs": [
        {
          "output_type": "stream",
          "name": "stdout",
          "text": [
            "Asl vektor: [49 81 86 98  3 15 43 48 13 95]\n",
            "Saralangan vektor: [ 3 13 15 43 48 49 81 86 95 98]\n"
          ]
        }
      ]
    },
    {
      "cell_type": "markdown",
      "id": "1e74d39e",
      "metadata": {
        "id": "1e74d39e"
      },
      "source": [
        "#### 22. Ikki tasodifiy A va B massiv yarating, ularning tengligini tekshiring."
      ]
    },
    {
      "cell_type": "markdown",
      "source": [
        "`💡Ishora` np.allclose, np.array_equal"
      ],
      "metadata": {
        "id": "eb0e066c"
      },
      "id": "eb0e066c"
    },
    {
      "cell_type": "code",
      "source": [
        "# Tasodifiy 5 elementli massivlar\n",
        "A = np.random.randint(0, 10, 5)\n",
        "B = np.random.randint(0, 10, 5)\n",
        "\n",
        "print(\"Massiv A:\", A)\n",
        "print(\"Massiv B:\", B)\n",
        "\n",
        "# Tenglikni tekshirish\n",
        "print(\"array_equal:\", np.array_equal(A, B))   # aniq tenglik\n",
        "print(\"allclose:\", np.allclose(A, B))         # yaqin qiymatlar uchun"
      ],
      "metadata": {
        "id": "xHNWNZnwOT1r",
        "colab": {
          "base_uri": "https://localhost:8080/"
        },
        "outputId": "66e53ec3-b9cb-4040-ea99-0410c6744982"
      },
      "id": "xHNWNZnwOT1r",
      "execution_count": 76,
      "outputs": [
        {
          "output_type": "stream",
          "name": "stdout",
          "text": [
            "Massiv A: [3 4 9 2 6]\n",
            "Massiv B: [0 5 2 9 0]\n",
            "array_equal: False\n",
            "allclose: False\n"
          ]
        }
      ]
    },
    {
      "cell_type": "markdown",
      "id": "78250c14",
      "metadata": {
        "id": "78250c14"
      },
      "source": [
        "#### 23. Oʻlchamlari 6x3 va 3x4 matritsa tuzing va ularni oʻzaro koʻpaytiring.\n"
      ]
    },
    {
      "cell_type": "markdown",
      "source": [
        "`💡Ishora` np.dot or np.ones"
      ],
      "metadata": {
        "id": "2e482afe"
      },
      "id": "2e482afe"
    },
    {
      "cell_type": "code",
      "source": [
        "# 6x3 va 3x4 o'lchamdagi matritsalar\n",
        "A = np.ones((6, 3))\n",
        "B = np.ones((3, 4))\n",
        "\n",
        "# Ko'paytirish\n",
        "C = np.dot(A, B)\n",
        "\n",
        "print(\"A:\\n\", A)\n",
        "print(\"B:\\n\", B)\n",
        "print(\"Natija (6x4):\\n\", C)"
      ],
      "metadata": {
        "id": "ZRlMgdT9POgS",
        "colab": {
          "base_uri": "https://localhost:8080/"
        },
        "outputId": "823d8401-c2a3-4e49-84bd-dbc75196732e"
      },
      "id": "ZRlMgdT9POgS",
      "execution_count": 77,
      "outputs": [
        {
          "output_type": "stream",
          "name": "stdout",
          "text": [
            "A:\n",
            " [[1. 1. 1.]\n",
            " [1. 1. 1.]\n",
            " [1. 1. 1.]\n",
            " [1. 1. 1.]\n",
            " [1. 1. 1.]\n",
            " [1. 1. 1.]]\n",
            "B:\n",
            " [[1. 1. 1. 1.]\n",
            " [1. 1. 1. 1.]\n",
            " [1. 1. 1. 1.]]\n",
            "Natija (6x4):\n",
            " [[3. 3. 3. 3.]\n",
            " [3. 3. 3. 3.]\n",
            " [3. 3. 3. 3.]\n",
            " [3. 3. 3. 3.]\n",
            " [3. 3. 3. 3.]\n",
            " [3. 3. 3. 3.]]\n"
          ]
        }
      ]
    },
    {
      "cell_type": "markdown",
      "id": "51898680",
      "metadata": {
        "id": "51898680"
      },
      "source": [
        "#### 24. Tasodifiy sonlardan iborat boʻlgan oʻlchami 5 ga teng vektor yarating, soʻng uning eng katta qiymatini 0 ga oʻzgartiring.\n"
      ]
    },
    {
      "cell_type": "markdown",
      "source": [
        "`💡Ishora` argmax"
      ],
      "metadata": {
        "id": "ee92ccaf"
      },
      "id": "ee92ccaf"
    },
    {
      "cell_type": "code",
      "source": [
        "# Tasodifiy 5 elementli vektor\n",
        "v = np.random.randint(0, 100, 5)\n",
        "print(\"Asl vektor:\", v)\n",
        "\n",
        "# Eng katta elementning indeksini topish\n",
        "idx = np.argmax(v)\n",
        "\n",
        "# Uni 0 ga o'zgartirish\n",
        "v[idx] = 0\n",
        "print(\"O'zgartirilgan vektor:\", v)"
      ],
      "metadata": {
        "id": "v9DvyaTNPk_t",
        "colab": {
          "base_uri": "https://localhost:8080/"
        },
        "outputId": "f6e9f9bf-7dd4-4678-cf5a-551d09a2e5ef"
      },
      "id": "v9DvyaTNPk_t",
      "execution_count": 78,
      "outputs": [
        {
          "output_type": "stream",
          "name": "stdout",
          "text": [
            "Asl vektor: [60 50 71 54 19]\n",
            "O'zgartirilgan vektor: [60 50  0 54 19]\n"
          ]
        }
      ]
    },
    {
      "cell_type": "markdown",
      "id": "129c342d",
      "metadata": {
        "id": "129c342d"
      },
      "source": [
        "#### 25. NumPy kutubxonasi yordamida kecha, bugun va ertangi kun sanalarini aniqlang.\n"
      ]
    },
    {
      "cell_type": "markdown",
      "source": [
        "`💡Ishora` np.datetime64, np.timedelta64"
      ],
      "metadata": {
        "id": "0fd2f947"
      },
      "id": "0fd2f947"
    },
    {
      "cell_type": "code",
      "source": [
        "# Bugungi sana\n",
        "bugun = np.datetime64('today')\n",
        "\n",
        "# Kecha va ertangi kun\n",
        "kecha = bugun - np.timedelta64(1, 'D')\n",
        "ertaga = bugun + np.timedelta64(1, 'D')\n",
        "\n",
        "print(\"Kecha:\", kecha)\n",
        "print(\"Bugun:\", bugun)\n",
        "print(\"Ertaga:\", ertaga)"
      ],
      "metadata": {
        "id": "dlljRGxkSitd",
        "colab": {
          "base_uri": "https://localhost:8080/"
        },
        "outputId": "6a1eb370-b25d-41a0-e84c-5aa730c1287e"
      },
      "id": "dlljRGxkSitd",
      "execution_count": 79,
      "outputs": [
        {
          "output_type": "stream",
          "name": "stdout",
          "text": [
            "Kecha: 2025-09-29\n",
            "Bugun: 2025-09-30\n",
            "Ertaga: 2025-10-01\n"
          ]
        }
      ]
    },
    {
      "cell_type": "markdown",
      "id": "42f8b2f9",
      "metadata": {
        "id": "42f8b2f9"
      },
      "source": [
        "#### 26. 2016 yil yanvar oyiga toʻgʻri keladigan barcha sanalarni NumPy kutubxonasi yordamida aniqlang.\n"
      ]
    },
    {
      "cell_type": "markdown",
      "source": [
        "`💡Ishora` np.arange(dtype=datetime64['D'])"
      ],
      "metadata": {
        "id": "SU1BWcA8Sw2M"
      },
      "id": "SU1BWcA8Sw2M"
    },
    {
      "cell_type": "code",
      "execution_count": 80,
      "id": "5ad086b0",
      "metadata": {
        "id": "5ad086b0",
        "colab": {
          "base_uri": "https://localhost:8080/"
        },
        "outputId": "2329cdbc-43be-4ed8-bb1a-16f6d2d93e0c"
      },
      "outputs": [
        {
          "output_type": "execute_result",
          "data": {
            "text/plain": [
              "array(['2016-01-01', '2016-01-02', '2016-01-03', '2016-01-04',\n",
              "       '2016-01-05', '2016-01-06', '2016-01-07', '2016-01-08',\n",
              "       '2016-01-09', '2016-01-10', '2016-01-11', '2016-01-12',\n",
              "       '2016-01-13', '2016-01-14', '2016-01-15', '2016-01-16',\n",
              "       '2016-01-17', '2016-01-18', '2016-01-19', '2016-01-20',\n",
              "       '2016-01-21', '2016-01-22', '2016-01-23', '2016-01-24',\n",
              "       '2016-01-25', '2016-01-26', '2016-01-27', '2016-01-28',\n",
              "       '2016-01-29', '2016-01-30', '2016-01-31'], dtype='datetime64[D]')"
            ]
          },
          "metadata": {},
          "execution_count": 80
        }
      ],
      "source": [
        "# 2016 yil yanvar oyidagi barcha sanalar\n",
        "sana = np.arange('2016-01', '2016-02', dtype='datetime64[D]')\n",
        "sana"
      ]
    },
    {
      "cell_type": "markdown",
      "id": "486df8ea",
      "metadata": {
        "id": "486df8ea"
      },
      "source": [
        "#### 27. 4 xil usul yordamida musbat sonlarning tasodifiy massivining butun son qismini ajratib oling.\n"
      ]
    },
    {
      "cell_type": "markdown",
      "source": [
        "`💡Ishora` %, np.floor, astype, np.trunc`"
      ],
      "metadata": {
        "id": "h4QM3bp9TDhb"
      },
      "id": "h4QM3bp9TDhb"
    },
    {
      "cell_type": "code",
      "execution_count": 81,
      "id": "2680c1ca",
      "metadata": {
        "id": "2680c1ca",
        "colab": {
          "base_uri": "https://localhost:8080/"
        },
        "outputId": "e333e19f-8485-4520-9b8a-7436bab4bafb"
      },
      "outputs": [
        {
          "output_type": "stream",
          "name": "stdout",
          "text": [
            "Asl massiv: [1.97009097 7.50234092 7.79705781 6.1901218  7.2664668 ]\n",
            "np.floor: [1. 7. 7. 6. 7.]\n",
            "astype(int): [1 7 7 6 7]\n",
            "np.trunc: [1. 7. 7. 6. 7.]\n",
            "Butun qism (%): [1. 7. 7. 6. 7.]\n"
          ]
        }
      ],
      "source": [
        "# Tasodifiy massiv (musbat sonlar)\n",
        "a = np.random.uniform(1, 10, 5)   # 1 dan 10 gacha 5 ta son\n",
        "print(\"Asl massiv:\", a)\n",
        "\n",
        "# 1-usul: floor (pastga qarab yaxlitlash)\n",
        "print(\"np.floor:\", np.floor(a))\n",
        "\n",
        "# 2-usul: astype(int) (to'g'ridan-to'g'ri butun songa o'tkazish)\n",
        "print(\"astype(int):\", a.astype(int))\n",
        "\n",
        "# 3-usul: trunc (butun qismini olish)\n",
        "print(\"np.trunc:\", np.trunc(a))\n",
        "\n",
        "# 4-usul: % yordamida (qoldiqni olib tashlab butunni olish)\n",
        "print(\"Butun qism (%):\", a - a % 1)"
      ]
    },
    {
      "cell_type": "markdown",
      "id": "6415f02e",
      "metadata": {
        "id": "6415f02e"
      },
      "source": [
        "#### 28. Ixtiyoriy kichik massivlar yarating, ular yigʻindisini `np.sum` funksiyasidanda tezroq hisoblovchi dastur tuzing.\n"
      ]
    },
    {
      "cell_type": "markdown",
      "source": [
        "`💡Ishora` np.add.reduce"
      ],
      "metadata": {
        "id": "129e785f"
      },
      "id": "129e785f"
    },
    {
      "cell_type": "code",
      "source": [
        "# Ixtiyoriy kichik massiv yaratamiz\n",
        "a = np.array([2, 4, 6, 8, 10])\n",
        "\n",
        "# np.sum() yordamida\n",
        "print(\"np.sum:\", np.sum(a))\n",
        "\n",
        "# np.add.reduce() yordamida (tezroq ishlaydi)\n",
        "print(\"np.add.reduce:\", np.add.reduce(a))"
      ],
      "metadata": {
        "id": "M0Xv2bB9VYQZ",
        "colab": {
          "base_uri": "https://localhost:8080/"
        },
        "outputId": "a9f7aa31-ac8d-4b9a-a6dc-6401722aa8b8"
      },
      "id": "M0Xv2bB9VYQZ",
      "execution_count": 82,
      "outputs": [
        {
          "output_type": "stream",
          "name": "stdout",
          "text": [
            "np.sum: 30\n",
            "np.add.reduce: 30\n"
          ]
        }
      ]
    },
    {
      "cell_type": "markdown",
      "id": "58be9dd4",
      "metadata": {
        "id": "58be9dd4"
      },
      "source": [
        "#### 29. [1, 2, 3, 4, 5] vektor berilgan, har bir qiymat orasiga ketma-ket 3 ta nol raqamini yozuvchi dastur tuzing.\n"
      ]
    },
    {
      "cell_type": "markdown",
      "source": [
        "`💡Ishora` array[::4]"
      ],
      "metadata": {
        "id": "9cf9e134"
      },
      "id": "9cf9e134"
    },
    {
      "cell_type": "code",
      "source": [
        "# Boshlang'ich vektor\n",
        "a = np.array([1, 2, 3, 4, 5])\n",
        "\n",
        "# Har bir element orasiga 3 ta nol qo'shish\n",
        "b = np.zeros(len(a) * 4 - 3, dtype=int)  # uzunligi: elementlar + 3 ta nol\n",
        "b[::4] = a\n",
        "b"
      ],
      "metadata": {
        "id": "04IuJ2jaZeYu",
        "colab": {
          "base_uri": "https://localhost:8080/"
        },
        "outputId": "8d802eb6-ba09-4aa4-86b2-e1e80c1ebba9"
      },
      "id": "04IuJ2jaZeYu",
      "execution_count": 83,
      "outputs": [
        {
          "output_type": "execute_result",
          "data": {
            "text/plain": [
              "array([1, 0, 0, 0, 2, 0, 0, 0, 3, 0, 0, 0, 4, 0, 0, 0, 5])"
            ]
          },
          "metadata": {},
          "execution_count": 83
        }
      ]
    },
    {
      "cell_type": "markdown",
      "id": "781fa236",
      "metadata": {
        "id": "781fa236"
      },
      "source": [
        "#### 30. Quyidagi `a` massiv berilgan, a = [1,2,3,4,5,6,7,8,9,10,11,12,13,14] undan foydalangan holda `b` massivni yarata olasizmi, b = [[1,2,3,4], [2,3,4,5], [3,4,5,6], ..., [11,12,13,14]]?"
      ]
    },
    {
      "cell_type": "markdown",
      "source": [
        "`💡Ishora` stride_tricks.as_strided"
      ],
      "metadata": {
        "id": "82e3d17e"
      },
      "id": "82e3d17e"
    },
    {
      "cell_type": "code",
      "source": [
        "from numpy.lib.stride_tricks import as_strided\n",
        "\n",
        "# Asl massiv\n",
        "a = np.arange(1, 15)\n",
        "\n",
        "# Parametrlar\n",
        "n = 4  # oynaning uzunligi\n",
        "stride = a.strides[0]\n",
        "\n",
        "# Sirpanma oynali massiv\n",
        "b = as_strided(a, shape=(len(a) - n + 1, n), strides=(stride, stride))\n",
        "\n",
        "b"
      ],
      "metadata": {
        "id": "S1H6ivCua3NZ",
        "colab": {
          "base_uri": "https://localhost:8080/"
        },
        "outputId": "756f2369-523f-4323-89e5-69b4161819ff"
      },
      "id": "S1H6ivCua3NZ",
      "execution_count": 84,
      "outputs": [
        {
          "output_type": "execute_result",
          "data": {
            "text/plain": [
              "array([[ 1,  2,  3,  4],\n",
              "       [ 2,  3,  4,  5],\n",
              "       [ 3,  4,  5,  6],\n",
              "       [ 4,  5,  6,  7],\n",
              "       [ 5,  6,  7,  8],\n",
              "       [ 6,  7,  8,  9],\n",
              "       [ 7,  8,  9, 10],\n",
              "       [ 8,  9, 10, 11],\n",
              "       [ 9, 10, 11, 12],\n",
              "       [10, 11, 12, 13],\n",
              "       [11, 12, 13, 14]])"
            ]
          },
          "metadata": {},
          "execution_count": 84
        }
      ]
    },
    {
      "cell_type": "markdown",
      "id": "7d8dc135",
      "metadata": {
        "id": "7d8dc135"
      },
      "source": [
        "#### 31. Ixtiyoriy sonlardan tashkil topgan massiv yarating, unga oʻxshash qiymatlar kiriting. Soʻng, oʻxshash qiymatlarni topuvchi dastur tuzing.\n"
      ]
    },
    {
      "cell_type": "markdown",
      "source": [
        "`💡Ishora` np.bincount, argmax"
      ],
      "metadata": {
        "id": "81844e99"
      },
      "id": "81844e99"
    },
    {
      "cell_type": "code",
      "source": [
        "# Tasodifiy massiv yaratamiz (o'xshash qiymatlar ham bo'ladi)\n",
        "a = np.random.randint(0, 10, 20)  # 0 dan 9 gacha, uzunligi 20\n",
        "print(\"Massiv:\", a)\n",
        "\n",
        "# Har bir qiymat necha marta qatnashganini sanash\n",
        "counts = np.bincount(a)\n",
        "\n",
        "# Eng ko'p uchragan qiymatni topish\n",
        "most_common = np.argmax(counts)\n",
        "\n",
        "print(\"O'xshash qiymatlar soni:\", counts)\n",
        "print(\"Eng ko'p uchragan qiymat:\", most_common)"
      ],
      "metadata": {
        "id": "SiRaNwxjbaQN",
        "colab": {
          "base_uri": "https://localhost:8080/"
        },
        "outputId": "85cb9d20-9eb9-4360-e6d5-73694ad875f3"
      },
      "id": "SiRaNwxjbaQN",
      "execution_count": 85,
      "outputs": [
        {
          "output_type": "stream",
          "name": "stdout",
          "text": [
            "Massiv: [2 5 9 8 9 1 9 7 9 2 3 7 1 1 4 0 2 2 6 8]\n",
            "O'xshash qiymatlar soni: [1 3 4 1 1 1 1 2 2 4]\n",
            "Eng ko'p uchragan qiymat: 2\n"
          ]
        }
      ]
    },
    {
      "cell_type": "markdown",
      "source": [
        "[link text](https://)#### BONUS topshiriq\n",
        "\n",
        "`💡Oʻzingiz javob berishni istagan savolni kiriting va unga javob bering.`"
      ],
      "metadata": {
        "id": "URzxwwODb0m_"
      },
      "id": "URzxwwODb0m_"
    },
    {
      "cell_type": "code",
      "source": [
        "# 0 dan 50 gacha bo'lgan 10 ta tasodifiy butun son\n",
        "a = np.random.randint(0, 50, 10)\n",
        "print(\"Massiv:\", a)\n",
        "\n",
        "# Juft sonlarni ajratib olish\n",
        "juftlar = a[a % 2 == 0]\n",
        "print(\"Juft sonlar:\", juftlar)\n",
        "\n",
        "# Toq sonlarni ajratib olish\n",
        "toq_sonlar = a[a % 2 == 1]\n",
        "print(\"Toq sonlar:\", toq_sonlar)"
      ],
      "metadata": {
        "id": "9xpR0GVrbzuk",
        "colab": {
          "base_uri": "https://localhost:8080/"
        },
        "outputId": "78fec59c-a89c-4948-fde6-2e34a661e2a4"
      },
      "id": "9xpR0GVrbzuk",
      "execution_count": 86,
      "outputs": [
        {
          "output_type": "stream",
          "name": "stdout",
          "text": [
            "Massiv: [18 20 19 37 21 11 40 16 25 21]\n",
            "Juft sonlar: [18 20 40 16]\n",
            "Toq sonlar: [19 37 21 11 25 21]\n"
          ]
        }
      ]
    }
  ],
  "metadata": {
    "hide_input": false,
    "kernelspec": {
      "display_name": "Python 3",
      "language": "python",
      "name": "python3"
    },
    "language_info": {
      "codemirror_mode": {
        "name": "ipython",
        "version": 3
      },
      "file_extension": ".py",
      "mimetype": "text/x-python",
      "name": "python",
      "nbconvert_exporter": "python",
      "pygments_lexer": "ipython3",
      "version": "3.8.8"
    },
    "toc": {
      "base_numbering": 1,
      "nav_menu": {},
      "number_sections": true,
      "sideBar": true,
      "skip_h1_title": false,
      "title_cell": "Table of Contents",
      "title_sidebar": "Contents",
      "toc_cell": false,
      "toc_position": {},
      "toc_section_display": true,
      "toc_window_display": false
    },
    "varInspector": {
      "cols": {
        "lenName": 16,
        "lenType": 16,
        "lenVar": 40
      },
      "kernels_config": {
        "python": {
          "delete_cmd_postfix": "",
          "delete_cmd_prefix": "del ",
          "library": "var_list.py",
          "varRefreshCmd": "print(var_dic_list())"
        },
        "r": {
          "delete_cmd_postfix": ") ",
          "delete_cmd_prefix": "rm(",
          "library": "var_list.r",
          "varRefreshCmd": "cat(var_dic_list()) "
        }
      },
      "types_to_exclude": [
        "module",
        "function",
        "builtin_function_or_method",
        "instance",
        "_Feature"
      ],
      "window_display": false
    },
    "colab": {
      "provenance": [],
      "include_colab_link": true
    }
  },
  "nbformat": 4,
  "nbformat_minor": 5
}